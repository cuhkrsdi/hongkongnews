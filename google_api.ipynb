{
 "cells": [
  {
   "cell_type": "code",
   "execution_count": 1,
   "metadata": {
    "collapsed": true
   },
   "outputs": [],
   "source": [
    "import requests"
   ]
  },
  {
   "cell_type": "code",
   "execution_count": 2,
   "outputs": [],
   "source": [
    "API_KEY = input('Please input your Google API key: ')"
   ],
   "metadata": {
    "collapsed": false,
    "pycharm": {
     "name": "#%%\n"
    }
   }
  },
  {
   "cell_type": "code",
   "execution_count": 3,
   "outputs": [],
   "source": [
    "# Request Geocoding to Google API\n",
    "def getGeoData(address):\n",
    "    params = {'key': API_KEY, 'address': address}\n",
    "    base_url = 'https://maps.googleapis.com/maps/api/geocode/json?'\n",
    "    response = requests.get(base_url, params=params)\n",
    "    data = response.json()\n",
    "    if data['status'] == 'OK':\n",
    "        result = data['results'][0]\n",
    "        return result\n",
    "    else:\n",
    "        return '0'\n",
    "\n",
    "# Create Place class\n",
    "class Place:\n",
    "    def __init__(self, result):\n",
    "        self.name = result['formatted_address']\n",
    "        self.lat = result['geometry']['location']['lat']\n",
    "        self.lng = result['geometry']['location']['lng']"
   ],
   "metadata": {
    "collapsed": false,
    "pycharm": {
     "name": "#%%\n"
    }
   }
  },
  {
   "cell_type": "code",
   "execution_count": 4,
   "outputs": [
    {
     "name": "stdout",
     "output_type": "stream",
     "text": [
      "Place name: Hong Kong\n",
      "Latitude: 22.3193039\n",
      "Longitude: 114.1693611\n"
     ]
    }
   ],
   "source": [
    "search_place = input('Please input your search place: ')\n",
    "place = getGeoData(search_place)\n",
    "place = Place(place)\n",
    "\n",
    "print(f'''Place name: {place.name}\n",
    "Latitude: {place.lat}\n",
    "Longitude: {place.lng}''')"
   ],
   "metadata": {
    "collapsed": false,
    "pycharm": {
     "name": "#%%\n"
    }
   }
  }
 ],
 "metadata": {
  "kernelspec": {
   "display_name": "Python 3",
   "language": "python",
   "name": "python3"
  },
  "language_info": {
   "codemirror_mode": {
    "name": "ipython",
    "version": 2
   },
   "file_extension": ".py",
   "mimetype": "text/x-python",
   "name": "python",
   "nbconvert_exporter": "python",
   "pygments_lexer": "ipython2",
   "version": "2.7.6"
  }
 },
 "nbformat": 4,
 "nbformat_minor": 0
}